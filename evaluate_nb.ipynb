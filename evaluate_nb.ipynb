{
 "cells": [
  {
   "cell_type": "code",
   "execution_count": 1,
   "id": "2a1e5c3e",
   "metadata": {},
   "outputs": [],
   "source": [
    "par_data = \"corpus_paramopama+second_harem.spacy\"\n",
    "harem_data = \"corpus_First_HAREM.spacy\"\n",
    "import os\n",
    "def evaluate(model_name, eval_data, displacy = False):\n",
    "    eval_path = \"spacy_data/\"+eval_data\n",
    "    metrics_path = \"metrics/\"+model_name+\".json\"\n",
    "    metrics_cmd = \"-o \"+metrics_path\n",
    "    model_dir = \"models/\"+model_name+'/model-best/'\n",
    "    \n",
    "    displacy_dir = \"displacy/\"+model_name\n",
    "    \n",
    "    try:\n",
    "        os.mkdir(displacy_dir)\n",
    "    except:\n",
    "        pass\n",
    "    \n",
    "    if displacy:\n",
    "        displacy_cmd = \" --displacy-path \" + displacy_dir\n",
    "    else:\n",
    "        displacy_cmd = \"\"\n",
    "    \n",
    "    eval_cmd = \"python -m spacy evaluate {} {} {}{}\".format(model_dir, eval_path, metrics_cmd, displacy_cmd)\n",
    "    \n",
    "    !{eval_cmd}"
   ]
  },
  {
   "cell_type": "code",
   "execution_count": 20,
   "id": "e3c1a496",
   "metadata": {},
   "outputs": [
    {
     "name": "stdout",
     "output_type": "stream",
     "text": [
      "\n",
      "\n",
      "Evaluating harem_par1 with corpus_First_HAREM.spacy (TRAINED WITH IT!)\n",
      "[i] Using CPU\n",
      "[i] To switch to GPU 0, use the option: --gpu-id 0\n",
      "\u001b[1m\n",
      "================================== Results ==================================\u001b[0m\n",
      "\n",
      "TOK     -    \n",
      "NER P   87.28\n",
      "NER R   86.85\n",
      "NER F   87.07\n",
      "SPEED   4039 \n",
      "\n",
      "\u001b[1m\n",
      "=============================== NER (per type) ===============================\u001b[0m\n",
      "\n",
      "            P       R       F\n",
      "LOC     84.09   93.56   88.57\n",
      "ORG     89.67   76.64   82.65\n",
      "TEMPO   78.55   77.97   78.26\n",
      "VALOR   84.60   81.86   83.21\n",
      "PER     94.10   93.74   93.92\n",
      "O        0.00    0.00    0.00\n",
      "\n",
      "[+] Generated 25 parses as HTML\n",
      "displacy\\harem1_par\n",
      "[+] Saved results to metrics\\harem1_par.json\n",
      "\n",
      "\n",
      "Evaluating harem_par1 with corpus_paramopama+second_harem.spacy\n"
     ]
    },
    {
     "name": "stderr",
     "output_type": "stream",
     "text": [
      "D:\\Anaconda\\lib\\site-packages\\cupy\\_environment.py:213: UserWarning: CUDA path could not be detected. Set CUDA_PATH environment variable if CuPy fails to load.\n",
      "  warnings.warn(\n",
      "D:\\Anaconda\\lib\\site-packages\\spacy\\displacy\\__init__.py:191: UserWarning: [W006] No entities to visualize found in Doc object. If this is surprising to you, make sure the Doc was processed using a model that supports named entity recognition, and check the `doc.ents` property manually if necessary.\n",
      "  warnings.warn(Warnings.W006)\n"
     ]
    },
    {
     "name": "stdout",
     "output_type": "stream",
     "text": [
      "[i] Using CPU"
     ]
    },
    {
     "name": "stderr",
     "output_type": "stream",
     "text": [
      "D:\\Anaconda\\lib\\site-packages\\cupy\\_environment.py:213: UserWarning: CUDA path could not be detected. Set CUDA_PATH environment variable if CuPy fails to load."
     ]
    },
    {
     "name": "stdout",
     "output_type": "stream",
     "text": [
      "\n",
      "[i] To switch to GPU 0, use the option: --gpu-id 0\n",
      "\u001b[1m\n",
      "================================== Results ==================================\u001b[0m\n",
      "\n",
      "TOK     -    \n",
      "NER P   65.57\n",
      "NER R   62.89\n",
      "NER F   64.20\n",
      "SPEED   4110 \n",
      "\n",
      "\u001b[1m\n",
      "=============================== NER (per type) ===============================\u001b[0m\n",
      "\n",
      "             P       R       F\n",
      "TEMPO    74.19   47.12   57.63\n",
      "ORG      64.90   43.51   52.10\n",
      "PER      66.69   63.81   65.22\n",
      "LOC      76.63   76.12   76.37\n",
      "VALOR     0.00    0.00    0.00\n",
      "1-2458    0.00    0.00    0.00\n",
      "1-1223    0.00    0.00    0.00\n",
      "1-1016    0.00    0.00    0.00\n",
      "2-3038    0.00    0.00    0.00\n",
      "0-8344    0.00    0.00    0.00\n",
      "9-8675    0.00    0.00    0.00\n",
      "1-5346    0.00    0.00    0.00\n",
      "7-8740    0.00    0.00    0.00\n",
      "4-3896    0.00    0.00    0.00\n",
      "O         0.00    0.00    0.00\n",
      "\n",
      "[+] Generated 25 parses as HTML\n",
      "displacy\\harem1_par\n",
      "[+] Saved results to metrics\\harem1_par.json\n"
     ]
    },
    {
     "name": "stderr",
     "output_type": "stream",
     "text": [
      "\n",
      "  warnings.warn(\n"
     ]
    }
   ],
   "source": [
    "print(\"\\n\\nEvaluating harem_par1 with\",harem_data, \"(TRAINED WITH IT!)\")\n",
    "evaluate(\"harem1_par\", harem_data, True)\n",
    "\n",
    "print(\"\\n\\nEvaluating harem_par1 with\",par_data)\n",
    "evaluate(\"harem1_par\", par_data, True)"
   ]
  },
  {
   "cell_type": "code",
   "execution_count": 21,
   "id": "7180057a",
   "metadata": {},
   "outputs": [
    {
     "name": "stdout",
     "output_type": "stream",
     "text": [
      "Evaluating par_harem1 with corpus_First_HAREM.spacy\n",
      "[i] Using CPU\n",
      "[i] To switch to GPU 0, use the option: --gpu-id 0\n",
      "\u001b[1m\n",
      "================================== Results ==================================\u001b[0m\n",
      "\n",
      "TOK     -    \n",
      "NER P   57.79\n",
      "NER R   55.97\n",
      "NER F   56.87\n",
      "SPEED   3684 \n",
      "\n",
      "\u001b[1m\n",
      "=============================== NER (per type) ===============================\u001b[0m\n",
      "\n",
      "            P       R       F\n",
      "ORG     50.97   56.30   53.50\n",
      "TEMPO   38.92   60.40   47.33\n",
      "PER     66.48   55.12   60.27\n",
      "LOC     65.68   76.18   70.54\n",
      "VALOR    0.00    0.00    0.00\n",
      "O        0.00    0.00    0.00\n",
      "\n",
      "[+] Generated 25 parses as HTML\n",
      "displacy\\par_harem1\n",
      "[+] Saved results to metrics\\par_harem1.json\n",
      "\n",
      "\n",
      "Evaluating par_harem1 with corpus_paramopama+second_harem.spacy (TRAINED WITH IT!)\n"
     ]
    },
    {
     "name": "stderr",
     "output_type": "stream",
     "text": [
      "D:\\Anaconda\\lib\\site-packages\\cupy\\_environment.py:213: UserWarning: CUDA path could not be detected. Set CUDA_PATH environment variable if CuPy fails to load.\n",
      "  warnings.warn(\n",
      "D:\\Anaconda\\lib\\site-packages\\spacy\\displacy\\__init__.py:191: UserWarning: [W006] No entities to visualize found in Doc object. If this is surprising to you, make sure the Doc was processed using a model that supports named entity recognition, and check the `doc.ents` property manually if necessary.\n",
      "  warnings.warn(Warnings.W006)\n"
     ]
    },
    {
     "name": "stdout",
     "output_type": "stream",
     "text": [
      "[i] Using CPU\n",
      "[i] To switch to GPU 0, use the option: --gpu-id 0\n",
      "\u001b[1m\n",
      "================================== Results ==================================\u001b[0m\n",
      "\n",
      "TOK     -    \n",
      "NER P   86.24\n",
      "NER R   85.01\n",
      "NER F   85.62\n",
      "SPEED   3752 \n",
      "\n",
      "\u001b[1m\n",
      "=============================== NER (per type) ===============================\u001b[0m\n",
      "\n",
      "             P       R       F\n",
      "TEMPO    92.48   73.58   81.95\n",
      "ORG      72.60   78.90   75.62\n",
      "PER      90.91   86.58   88.69\n",
      "LOC      87.63   91.16   89.36\n",
      "1-2458    0.00    0.00    0.00\n",
      "1-1223    0.00    0.00    0.00\n",
      "1-1016    0.00    0.00    0.00\n",
      "2-3038    0.00    0.00    0.00\n",
      "0-8344    0.00    0.00    0.00\n",
      "9-8675    0.00    0.00    0.00\n",
      "1-5346    0.00    0.00    0.00\n",
      "7-8740    0.00    0.00    0.00\n",
      "4-3896    0.00    0.00    0.00\n",
      "O         0.00    0.00    0.00\n",
      "\n",
      "[+] Generated 25 parses as HTML\n",
      "displacy\\par_harem1\n",
      "[+] Saved results to metrics\\par_harem1.json\n"
     ]
    },
    {
     "name": "stderr",
     "output_type": "stream",
     "text": [
      "D:\\Anaconda\\lib\\site-packages\\cupy\\_environment.py:213: UserWarning: CUDA path could not be detected. Set CUDA_PATH environment variable if CuPy fails to load.\n",
      "  warnings.warn(\n",
      "D:\\Anaconda\\lib\\site-packages\\spacy\\displacy\\__init__.py:191: UserWarning: [W006] No entities to visualize found in Doc object. If this is surprising to you, make sure the Doc was processed using a model that supports named entity recognition, and check the `doc.ents` property manually if necessary.\n",
      "  warnings.warn(Warnings.W006)\n"
     ]
    }
   ],
   "source": [
    "print(\"Evaluating par_harem1 with\",harem_data)\n",
    "evaluate(\"par_harem1\", harem_data, True)\n",
    "\n",
    "print(\"\\n\\nEvaluating par_harem1 with\",par_data, \"(TRAINED WITH IT!)\")\n",
    "evaluate(\"par_harem1\", par_data, True)"
   ]
  },
  {
   "cell_type": "code",
   "execution_count": 22,
   "id": "e8c621e8",
   "metadata": {},
   "outputs": [
    {
     "name": "stdout",
     "output_type": "stream",
     "text": [
      "Evaluating harem1 with corpus_First_HAREM.spacy (TRAINED WITH IT!)\n",
      "[i] Using CPU\n",
      "[i] To switch to GPU 0, use the option: --gpu-id 0\n",
      "\n",
      "\n",
      "Evaluating harem1 with corpus_paramopama+second_harem.spacy\n"
     ]
    },
    {
     "name": "stderr",
     "output_type": "stream",
     "text": [
      "D:\\Anaconda\\lib\\site-packages\\cupy\\_environment.py:213: UserWarning: CUDA path could not be detected. Set CUDA_PATH environment variable if CuPy fails to load.\n",
      "  warnings.warn(\n",
      "D:\\Anaconda\\lib\\site-packages\\spacy\\displacy\\__init__.py:191: UserWarning: [W006] No entities to visualize found in Doc object. If this is surprising to you, make sure the Doc was processed using a model that supports named entity recognition, and check the `doc.ents` property manually if necessary.\n",
      "  warnings.warn(Warnings.W006)\n"
     ]
    },
    {
     "name": "stdout",
     "output_type": "stream",
     "text": [
      "\u001b[1m\n",
      "================================== Results ==================================\u001b[0m\n",
      "\n",
      "TOK     -    \n",
      "NER P   98.18\n",
      "NER R   98.06\n",
      "NER F   98.12\n",
      "SPEED   3968 \n",
      "\n",
      "\u001b[1m\n",
      "=============================== NER (per type) ===============================\u001b[0m\n",
      "\n",
      "            P       R       F\n",
      "ORG     97.72   96.99   97.35\n",
      "TEMPO   97.77   97.77   97.77\n",
      "LOC     98.28   98.12   98.20\n",
      "VALOR   96.84   99.14   97.97\n",
      "PER     99.24   98.67   98.95\n",
      "O        0.00    0.00    0.00\n",
      "\n",
      "[+] Generated 25 parses as HTML\n",
      "displacy\\harem1\n",
      "[+] Saved results to metrics\\harem1.json\n",
      "[i] Using CPU\n",
      "[i] To switch to GPU 0, use the option: --gpu-id 0\n",
      "\u001b[1m\n",
      "================================== Results ==================================\u001b[0m\n",
      "\n",
      "TOK     -    \n",
      "NER P   62.47\n",
      "NER R   57.68\n",
      "NER F   59.98\n",
      "SPEED   3412 \n",
      "\n",
      "\u001b[1m\n",
      "=============================== NER (per type) ===============================\u001b[0m\n",
      "\n",
      "             P       R       F\n",
      "TEMPO    81.99   47.94   60.50\n",
      "PER      65.58   58.69   61.94\n",
      "LOC      79.13   66.07   72.01\n",
      "VALOR     0.00    0.00    0.00\n",
      "ORG      51.50   44.61   47.81\n",
      "1-2458    0.00    0.00    0.00\n",
      "O         0.00    0.00    0.00\n",
      "1-1016    0.00    0.00    0.00\n",
      "1-1223    0.00    0.00    0.00\n",
      "2-3038    0.00    0.00    0.00\n",
      "9-8675    0.00    0.00    0.00\n",
      "0-8344    0.00    0.00    0.00\n",
      "1-5346    0.00    0.00    0.00\n",
      "7-8740    0.00    0.00    0.00\n",
      "4-3896    0.00    0.00    0.00\n",
      "\n",
      "[+] Generated 25 parses as HTML\n",
      "displacy\\harem1\n",
      "[+] Saved results to metrics\\harem1.json\n"
     ]
    },
    {
     "name": "stderr",
     "output_type": "stream",
     "text": [
      "D:\\Anaconda\\lib\\site-packages\\cupy\\_environment.py:213: UserWarning: CUDA path could not be detected. Set CUDA_PATH environment variable if CuPy fails to load.\n",
      "  warnings.warn(\n"
     ]
    }
   ],
   "source": [
    "print(\"Evaluating harem1 with\",harem_data, \"(TRAINED WITH IT!)\")\n",
    "evaluate(\"harem1\", harem_data, True)\n",
    "\n",
    "print(\"\\n\\nEvaluating harem1 with\",par_data )\n",
    "evaluate(\"harem1\", par_data, True)"
   ]
  },
  {
   "cell_type": "code",
   "execution_count": 23,
   "id": "735fdd0e",
   "metadata": {},
   "outputs": [
    {
     "name": "stdout",
     "output_type": "stream",
     "text": [
      "Evaluating pa_harem2 with corpus_First_HAREM.spacy\n",
      "[i] Using CPU\n",
      "[i] To switch to GPU 0, use the option: --gpu-id 0\n",
      "\u001b[1m\n",
      "================================== Results ==================================\u001b[0m\n",
      "\n",
      "TOK     -    \n",
      "NER P   56.44\n",
      "NER R   53.54\n",
      "NER F   54.95\n",
      "SPEED   3972 \n",
      "\n",
      "\u001b[1m\n",
      "=============================== NER (per type) ===============================\u001b[0m\n",
      "\n",
      "            P       R       F\n",
      "ORG     63.65   48.44   55.01\n",
      "TEMPO   32.55   65.10   43.40\n",
      "LOC     64.23   69.41   66.72\n",
      "PER     60.21   58.73   59.46\n",
      "VALOR    0.00    0.00    0.00\n",
      "O        0.00    0.00    0.00\n",
      "\n",
      "[+] Generated 25 parses as HTML\n",
      "displacy\\pa_harem2\n",
      "[+] Saved results to metrics\\pa_harem2.json\n",
      "\n",
      "\n",
      "Evaluating pa_harem2 with corpus_paramopama+second_harem.spacy (TRAINED WITH IT!)\n"
     ]
    },
    {
     "name": "stderr",
     "output_type": "stream",
     "text": [
      "D:\\Anaconda\\lib\\site-packages\\cupy\\_environment.py:213: UserWarning: CUDA path could not be detected. Set CUDA_PATH environment variable if CuPy fails to load.\n",
      "  warnings.warn(\n",
      "D:\\Anaconda\\lib\\site-packages\\spacy\\displacy\\__init__.py:191: UserWarning: [W006] No entities to visualize found in Doc object. If this is surprising to you, make sure the Doc was processed using a model that supports named entity recognition, and check the `doc.ents` property manually if necessary.\n",
      "  warnings.warn(Warnings.W006)\n"
     ]
    },
    {
     "name": "stdout",
     "output_type": "stream",
     "text": [
      "[i] Using CPU\n",
      "[i] To switch to GPU 0, use the option: --gpu-id 0\n",
      "\u001b[1m\n",
      "================================== Results ==================================\u001b[0m\n",
      "\n",
      "TOK     -    \n",
      "NER P   96.06\n",
      "NER R   94.94\n"
     ]
    },
    {
     "name": "stderr",
     "output_type": "stream",
     "text": [
      "D:\\Anaconda\\lib\\site-packages\\cupy\\_environment.py:213: UserWarning: CUDA path could not be detected. Set CUDA_PATH environment variable if CuPy fails to load.\n",
      "  warnings.warn(\n",
      "D:\\Anaconda\\lib\\site-packages\\spacy\\displacy\\__init__.py:191: UserWarning: [W006] No entities to visualize found in Doc object. If this is surprising to you, make sure the Doc was processed using a model that supports named entity recognition, and check the `doc.ents` property manually if necessary.\n",
      "  warnings.warn(Warnings.W006)\n"
     ]
    },
    {
     "name": "stdout",
     "output_type": "stream",
     "text": [
      "NER F   95.50\n",
      "SPEED   3351 \n",
      "\n",
      "\u001b[1m\n",
      "=============================== NER (per type) ===============================\u001b[0m\n",
      "\n",
      "             P        R       F\n",
      "TEMPO    97.48    93.01   95.20\n",
      "ORG      94.86    88.35   91.49\n",
      "PER      97.15    97.34   97.24\n",
      "LOC      95.42    97.08   96.25\n",
      "1-2458    0.00     0.00    0.00\n",
      "7-8740   33.33   100.00   50.00\n",
      "1-1016    0.00     0.00    0.00\n",
      "1-1223    0.00     0.00    0.00\n",
      "9-8675    0.00     0.00    0.00\n",
      "2-3038    0.00     0.00    0.00\n",
      "0-8344    0.00     0.00    0.00\n",
      "1-5346    0.00     0.00    0.00\n",
      "4-3896    0.00     0.00    0.00\n",
      "O         0.00     0.00    0.00\n",
      "\n",
      "[+] Generated 25 parses as HTML\n",
      "displacy\\pa_harem2\n",
      "[+] Saved results to metrics\\pa_harem2.json\n"
     ]
    }
   ],
   "source": [
    "print(\"Evaluating pa_harem2 with\",harem_data)\n",
    "evaluate(\"pa_harem2\", harem_data, True)\n",
    "\n",
    "print(\"\\n\\nEvaluating pa_harem2 with\",par_data, \"(TRAINED WITH IT!)\")\n",
    "evaluate(\"pa_harem2\", par_data, True)"
   ]
  },
  {
   "cell_type": "code",
   "execution_count": 2,
   "id": "d8d39ddc",
   "metadata": {},
   "outputs": [
    {
     "name": "stdout",
     "output_type": "stream",
     "text": [
      "Evaluating custom_training with corpus_First_HAREM.spacy\n",
      "[i] Using CPU\n",
      "\n",
      "Evaluating pa_harem2 with\n",
      "[i] To switch to GPU 0, use the option: --gpu-id 0\n",
      "\u001b[1m\n",
      " corpus_paramopama+second_harem.spacy (TRAINED PARTIALLY WITH IT!)\n",
      "================================== Results ==================================\u001b[0m\n",
      "\n",
      "TOK     -    \n",
      "NER P   56.85\n",
      "NER R   55.56\n",
      "NER F   56.20\n",
      "SPEED   3696 \n",
      "\n",
      "\u001b[1m\n",
      "=============================== NER (per type) ===============================\u001b[0m\n",
      "\n",
      "            P       R       F\n",
      "ORG     66.62   47.26   55.29\n",
      "TEMPO   29.34   67.33   40.87\n",
      "LOC     67.33   73.98   70.50\n",
      "PER     61.56   61.39   61.47\n",
      "VALOR    0.00    0.00    0.00\n",
      "O        0.00    0.00    0.00\n",
      "\n",
      "[+] Generated 25 parses as HTML\n",
      "displacy\\custom_training\n",
      "[+] Saved results to metrics\\custom_training.json\n"
     ]
    },
    {
     "name": "stderr",
     "output_type": "stream",
     "text": [
      "D:\\Anaconda\\lib\\site-packages\\cupy\\_environment.py:213: UserWarning: CUDA path could not be detected. Set CUDA_PATH environment variable if CuPy fails to load.\n",
      "  warnings.warn(\n",
      "D:\\Anaconda\\lib\\site-packages\\spacy\\displacy\\__init__.py:191: UserWarning: [W006] No entities to visualize found in Doc object. If this is surprising to you, make sure the Doc was processed using a model that supports named entity recognition, and check the `doc.ents` property manually if necessary.\n",
      "  warnings.warn(Warnings.W006)\n"
     ]
    },
    {
     "name": "stdout",
     "output_type": "stream",
     "text": [
      "[i] Using CPU\n",
      "[i] To switch to GPU 0, use the option: --gpu-id 0\n",
      "\u001b[1m\n",
      "================================== Results ==================================\u001b[0m\n",
      "\n",
      "TOK     -    \n",
      "NER P   87.94\n",
      "NER R   87.84\n",
      "NER F   87.89\n",
      "SPEED   3874 \n",
      "\n",
      "\u001b[1m\n",
      "=============================== NER (per type) ===============================\u001b[0m\n",
      "\n",
      "             P       R       F\n",
      "TEMPO    86.04   86.47   86.25\n",
      "ORG      84.75   74.69   79.40\n",
      "PER      89.24   91.58   90.40\n",
      "LOC      89.06   91.58   90.30\n",
      "1-2458    0.00    0.00    0.00\n",
      "1-1223    0.00    0.00    0.00\n",
      "1-1016    0.00    0.00    0.00\n",
      "0-8344    0.00    0.00    0.00\n",
      "9-8675    0.00    0.00    0.00\n",
      "2-3038    0.00    0.00    0.00\n",
      "1-5346    0.00    0.00    0.00\n",
      "7-8740    0.00    0.00    0.00\n",
      "4-3896    0.00    0.00    0.00\n",
      "O         0.00    0.00    0.00\n",
      "\n",
      "[+] Generated 25 parses as HTML\n",
      "displacy\\custom_training\n",
      "[+] Saved results to metrics\\custom_training.json\n"
     ]
    },
    {
     "name": "stderr",
     "output_type": "stream",
     "text": [
      "D:\\Anaconda\\lib\\site-packages\\cupy\\_environment.py:213: UserWarning: CUDA path could not be detected. Set CUDA_PATH environment variable if CuPy fails to load.\n",
      "  warnings.warn(\n",
      "D:\\Anaconda\\lib\\site-packages\\spacy\\displacy\\__init__.py:191: UserWarning: [W006] No entities to visualize found in Doc object. If this is surprising to you, make sure the Doc was processed using a model that supports named entity recognition, and check the `doc.ents` property manually if necessary.\n",
      "  warnings.warn(Warnings.W006)\n"
     ]
    }
   ],
   "source": [
    "print(\"Evaluating custom_training with\",harem_data)\n",
    "evaluate(\"custom_training\", harem_data, True)\n",
    "\n",
    "print(\"\\n\\nEvaluating pa_harem2 with\",par_data, \"(TRAINED PARTIALLY WITH IT!)\")\n",
    "evaluate(\"custom_training\", par_data, True)"
   ]
  },
  {
   "cell_type": "code",
   "execution_count": null,
   "id": "c98e7b53",
   "metadata": {},
   "outputs": [],
   "source": []
  }
 ],
 "metadata": {
  "kernelspec": {
   "display_name": "Python 3",
   "language": "python",
   "name": "python3"
  },
  "language_info": {
   "codemirror_mode": {
    "name": "ipython",
    "version": 3
   },
   "file_extension": ".py",
   "mimetype": "text/x-python",
   "name": "python",
   "nbconvert_exporter": "python",
   "pygments_lexer": "ipython3",
   "version": "3.8.8"
  }
 },
 "nbformat": 4,
 "nbformat_minor": 5
}
